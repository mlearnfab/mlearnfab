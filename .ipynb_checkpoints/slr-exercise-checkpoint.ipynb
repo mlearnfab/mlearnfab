{
 "cells": [
  {
   "cell_type": "markdown",
   "id": "76e7f863",
   "metadata": {},
   "source": [
    "# Simple Linear Regression Exercise\n",
    "## Voting Outcomes and Campaign Expenditures\n",
    "\n",
    "##### Credit: Data is from Introductory Econometrics, A Modern Approacy by Wooldridge\n",
    "\n",
    "The data set ```vote.csv``` contains information on campaign expenditures and election outcomes. For the exercise you will use simple linear regression to predict election outcome based on share of campaign expenditures. The target variable is ``voteA``, which indicates share of the vote in % (e.g. 68%). The feature variable is ``shareA``, which indicates share of campaign spending in % (e.g. 97%)."
   ]
  },
  {
   "cell_type": "markdown",
   "id": "ce061d4d",
   "metadata": {},
   "source": [
    "## Load Libraries "
   ]
  },
  {
   "cell_type": "code",
   "execution_count": null,
   "id": "4c0682c7",
   "metadata": {},
   "outputs": [],
   "source": [
    "\n"
   ]
  },
  {
   "cell_type": "markdown",
   "id": "00279621",
   "metadata": {},
   "source": [
    "## Load Data"
   ]
  },
  {
   "cell_type": "code",
   "execution_count": 12,
   "id": "0f57873e",
   "metadata": {},
   "outputs": [],
   "source": []
  },
  {
   "cell_type": "markdown",
   "id": "864043a3",
   "metadata": {},
   "source": [
    "## Exploratory Data Analysis"
   ]
  },
  {
   "cell_type": "code",
   "execution_count": 14,
   "id": "394de846",
   "metadata": {},
   "outputs": [],
   "source": [
    "# scatter plot of data"
   ]
  },
  {
   "cell_type": "markdown",
   "id": "a9a8549f",
   "metadata": {},
   "source": [
    "## Regression Model using Statsmodel"
   ]
  },
  {
   "cell_type": "code",
   "execution_count": null,
   "id": "fc726f1f",
   "metadata": {},
   "outputs": [],
   "source": []
  }
 ],
 "metadata": {
  "kernelspec": {
   "display_name": "Python 3 (ipykernel)",
   "language": "python",
   "name": "python3"
  },
  "language_info": {
   "codemirror_mode": {
    "name": "ipython",
    "version": 3
   },
   "file_extension": ".py",
   "mimetype": "text/x-python",
   "name": "python",
   "nbconvert_exporter": "python",
   "pygments_lexer": "ipython3",
   "version": "3.9.7"
  }
 },
 "nbformat": 4,
 "nbformat_minor": 5
}

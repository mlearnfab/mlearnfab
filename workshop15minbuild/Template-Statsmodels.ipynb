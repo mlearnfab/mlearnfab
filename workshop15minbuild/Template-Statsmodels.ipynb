{
 "cells": [
  {
   "cell_type": "markdown",
   "id": "884817b3",
   "metadata": {},
   "source": [
    "# Machine Learning for Absolute Beginners"
   ]
  },
  {
   "cell_type": "markdown",
   "id": "5a4d1aaa",
   "metadata": {},
   "source": [
    "## 0. Import Libraries"
   ]
  },
  {
   "cell_type": "code",
   "execution_count": 1,
   "id": "e9f691b8",
   "metadata": {},
   "outputs": [],
   "source": [
    "import pandas as pd\n",
    "import numpy as np\n",
    "\n",
    "import matplotlib.pyplot as plt\n",
    "import seaborn as sns\n",
    "\n",
    "import statsmodels.formula.api as smf"
   ]
  },
  {
   "cell_type": "markdown",
   "id": "6b10c1c7",
   "metadata": {},
   "source": [
    "## 1. Import and Verify Data"
   ]
  },
  {
   "cell_type": "code",
   "execution_count": 18,
   "id": "fa59ebe2",
   "metadata": {},
   "outputs": [],
   "source": [
    "# import data as pandas dataframe (calhousing.csv in data subdirectory)\n"
   ]
  },
  {
   "cell_type": "code",
   "execution_count": 19,
   "id": "db5fdb9b",
   "metadata": {},
   "outputs": [],
   "source": [
    "# check first few records with the head method\n"
   ]
  },
  {
   "cell_type": "code",
   "execution_count": 20,
   "id": "185c7b2a",
   "metadata": {},
   "outputs": [],
   "source": [
    "# check dataframe info with info method\n"
   ]
  },
  {
   "cell_type": "markdown",
   "id": "dd7c481e",
   "metadata": {},
   "source": [
    "## 2. Setup Model"
   ]
  },
  {
   "cell_type": "markdown",
   "id": "a2ac2536",
   "metadata": {},
   "source": [
    "- Our target variable is ``Price``\n",
    "- Our feature variables are:   \n",
    "- Our model type is multiple linear regression. We will use ols (ordinary least squares) in statsmodels\n",
    "\n",
    "\n",
    "Rule of Thumb: Choose feature variables with the largest correlation (positive or negative) with target variable. Avoid feature variables which have high correlations with each other. (e.g. MedInc and AveRooms)"
   ]
  },
  {
   "cell_type": "markdown",
   "id": "9216d66c",
   "metadata": {},
   "source": [
    "### Correlations"
   ]
  },
  {
   "cell_type": "code",
   "execution_count": 1,
   "id": "72e1d864",
   "metadata": {},
   "outputs": [],
   "source": [
    "#uncomment the two lines below\n",
    "#plt.figure(figsize=(10,6))\n",
    "#sns.heatmap(df.corr(),annot=True,cmap='BrBG')"
   ]
  },
  {
   "cell_type": "code",
   "execution_count": 2,
   "id": "3df0484e",
   "metadata": {},
   "outputs": [],
   "source": [
    "# uncomment the line below\n",
    "\n",
    "#sns.heatmap(df.corr()[['Price']].sort_values(by=\"Price\", ascending=False),annot=True)"
   ]
  },
  {
   "cell_type": "markdown",
   "id": "98d2781c",
   "metadata": {},
   "source": [
    "## 3. Fit Multiple Linear Regression Model to Data (First Iteration)"
   ]
  },
  {
   "cell_type": "code",
   "execution_count": 14,
   "id": "a2cc8ebf",
   "metadata": {},
   "outputs": [],
   "source": [
    "# type the correct string after : formula = \n",
    "\n",
    "model = smf.ols(formula=, data=df).fit()"
   ]
  },
  {
   "cell_type": "markdown",
   "id": "5c184299",
   "metadata": {},
   "source": [
    "## 4. Evaluate Model Results"
   ]
  },
  {
   "cell_type": "markdown",
   "id": "e5351ad5",
   "metadata": {},
   "source": [
    "### Print Model Parameters"
   ]
  },
  {
   "cell_type": "code",
   "execution_count": null,
   "id": "85812192",
   "metadata": {},
   "outputs": [],
   "source": []
  },
  {
   "cell_type": "markdown",
   "id": "af8e572e",
   "metadata": {},
   "source": [
    "### Print Model Summary"
   ]
  },
  {
   "cell_type": "code",
   "execution_count": null,
   "id": "6544a893",
   "metadata": {},
   "outputs": [],
   "source": []
  },
  {
   "cell_type": "markdown",
   "id": "518f4b56",
   "metadata": {},
   "source": [
    "## Make Predictions for New Data"
   ]
  },
  {
   "cell_type": "code",
   "execution_count": null,
   "id": "c0236bd1",
   "metadata": {},
   "outputs": [],
   "source": [
    " "
   ]
  },
  {
   "cell_type": "code",
   "execution_count": null,
   "id": "12c6738a",
   "metadata": {},
   "outputs": [],
   "source": []
  },
  {
   "cell_type": "code",
   "execution_count": null,
   "id": "d12381bb",
   "metadata": {},
   "outputs": [],
   "source": []
  }
 ],
 "metadata": {
  "kernelspec": {
   "display_name": "Python 3 (ipykernel)",
   "language": "python",
   "name": "python3"
  },
  "language_info": {
   "codemirror_mode": {
    "name": "ipython",
    "version": 3
   },
   "file_extension": ".py",
   "mimetype": "text/x-python",
   "name": "python",
   "nbconvert_exporter": "python",
   "pygments_lexer": "ipython3",
   "version": "3.8.8"
  }
 },
 "nbformat": 4,
 "nbformat_minor": 5
}
